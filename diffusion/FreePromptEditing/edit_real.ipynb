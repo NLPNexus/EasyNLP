{
 "cells": [
  {
   "cell_type": "code",
   "execution_count": 2,
   "metadata": {},
   "outputs": [],
   "source": [
    "import os \n",
    "import torch\n",
    "import torch.nn as nn\n",
    "import torch.nn.functional as F\n",
    "\n",
    "from diffusers import DDIMScheduler\n",
    "\n",
    "from Freeprompt.diffuser_utils import FreePromptPipeline\n",
    "from Freeprompt.freeprompt_utils import register_attention_control_new\n",
    "from torchvision.utils import save_image\n",
    "from torchvision.io import read_image\n",
    "from Freeprompt.freeprompt import SelfAttentionControlEdit,AttentionStore\n"
   ]
  },
  {
   "cell_type": "markdown",
   "metadata": {},
   "source": [
    "#### Model Construction"
   ]
  },
  {
   "cell_type": "code",
   "execution_count": 3,
   "metadata": {},
   "outputs": [
    {
     "name": "stderr",
     "output_type": "stream",
     "text": [
      "/apsarapangu/disk1/wushi.lby/anaconda3/envs/ldm/lib/python3.8/site-packages/transformers/models/clip/feature_extraction_clip.py:28: FutureWarning: The class CLIPFeatureExtractor is deprecated and will be removed in version 5 of Transformers. Please use CLIPImageProcessor instead.\n",
      "  warnings.warn(\n",
      "`text_config_dict` is provided which will be used to initialize `CLIPTextConfig`. The value `text_config[\"id2label\"]` will be overriden.\n",
      "/apsarapangu/disk1/wushi.lby/anaconda3/envs/ldm/lib/python3.8/site-packages/diffusers/pipelines/stable_diffusion/pipeline_stable_diffusion.py:115: FutureWarning: The configuration file of this scheduler: DDIMScheduler {\n",
      "  \"_class_name\": \"DDIMScheduler\",\n",
      "  \"_diffusers_version\": \"0.16.1\",\n",
      "  \"beta_end\": 0.012,\n",
      "  \"beta_schedule\": \"scaled_linear\",\n",
      "  \"beta_start\": 0.00085,\n",
      "  \"clip_sample\": false,\n",
      "  \"clip_sample_range\": 1.0,\n",
      "  \"dynamic_thresholding_ratio\": 0.995,\n",
      "  \"num_train_timesteps\": 1000,\n",
      "  \"prediction_type\": \"epsilon\",\n",
      "  \"sample_max_value\": 1.0,\n",
      "  \"set_alpha_to_one\": false,\n",
      "  \"steps_offset\": 0,\n",
      "  \"thresholding\": false,\n",
      "  \"trained_betas\": null\n",
      "}\n",
      " is outdated. `steps_offset` should be set to 1 instead of 0. Please make sure to update the config accordingly as leaving `steps_offset` might led to incorrect results in future versions. If you have downloaded this checkpoint from the Hugging Face Hub, it would be very nice if you could open a Pull request for the `scheduler/scheduler_config.json` file\n",
      "  deprecate(\"steps_offset!=1\", \"1.0.0\", deprecation_message, standard_warn=False)\n"
     ]
    }
   ],
   "source": [
    "# Note that you may add your Hugging Face token to get access to the models\n",
    "device = torch.device(\"cuda\") if torch.cuda.is_available() else torch.device(\"cpu\")\n",
    "model_path = \"runwayml/stable-diffusion-v1-5\"\n",
    "scheduler = DDIMScheduler(beta_start=0.00085, beta_end=0.012, beta_schedule=\"scaled_linear\", clip_sample=False, set_alpha_to_one=False)\n",
    "pipe = FreePromptPipeline.from_pretrained(model_path, scheduler=scheduler).to(device)\n"
   ]
  },
  {
   "cell_type": "markdown",
   "metadata": {},
   "source": [
    "#### Real editing"
   ]
  },
  {
   "cell_type": "code",
   "execution_count": 4,
   "metadata": {},
   "outputs": [
    {
     "name": "stderr",
     "output_type": "stream",
     "text": [
      "DDIM Inversion: 100%|██████████| 50/50 [00:03<00:00, 13.08it/s]\n",
      "/apsarapangu/disk1/wushi.lby/image_edit/sup/code/Free_prompt_editing/Freeprompt/diffuser_utils.py:134: FutureWarning: Accessing config attribute `in_channels` directly via 'UNet2DConditionModel' object attribute is deprecated. Please access 'in_channels' over 'UNet2DConditionModel's config object instead, e.g. 'unet.config.in_channels'.\n",
      "  latents_shape = (batch_size, self.unet.in_channels, height//8, width//8)\n",
      "DDIM Sampler: 100%|██████████| 50/50 [00:09<00:00,  5.41it/s]\n"
     ]
    }
   ],
   "source": [
    "\n",
    "# Note that you may add your Hugging Face token to get access to the models\n",
    "device = torch.device(\"cuda\") if torch.cuda.is_available() else torch.device(\"cpu\")\n",
    "\n",
    "\n",
    "def load_image(image_path, device):\n",
    "    image = read_image(image_path)\n",
    "    image = image[:3].unsqueeze_(0).float() / 127.5 - 1.  # [-1, 1]\n",
    "    image = F.interpolate(image, (512, 512))\n",
    "    image = image.to(device)\n",
    "    return image\n",
    "\n",
    "self_replace_steps = .8\n",
    "NUM_DIFFUSION_STEPS = 50\n",
    "\n",
    "out_dir = \"examples/outputs\"\n",
    "\n",
    "\n",
    "SOURCE_IMAGE_PATH = \"examples/img/000141.jpg\"\n",
    "source_image = load_image(SOURCE_IMAGE_PATH, device)\n",
    "\n",
    "source_prompt = \"\"\n",
    "\n",
    "# invert the source image\n",
    "start_code, latents_list = pipe.invert(source_image,\n",
    "                                        source_prompt,\n",
    "                                        guidance_scale=7.5,\n",
    "                                        num_inference_steps=50,\n",
    "                                        return_intermediates=True)\n",
    "\n",
    "target_prompt = 'a red car'\n",
    "\n",
    "latents = torch.randn(start_code.shape, device=device)\n",
    "prompts = [source_prompt, target_prompt]\n",
    "\n",
    "start_code = start_code.expand(len(prompts), -1, -1, -1)\n",
    "controller = SelfAttentionControlEdit(prompts, NUM_DIFFUSION_STEPS, self_replace_steps=self_replace_steps)\n",
    "\n",
    "register_attention_control_new(pipe, controller)\n",
    "\n",
    "# Note: querying the inversion intermediate features latents_list\n",
    "# may obtain better reconstruction and editing results\n",
    "results = pipe(prompts,\n",
    "                    latents=start_code,\n",
    "                    guidance_scale=7.5,\n",
    "                    ref_intermediate_latents=latents_list)\n",
    "\n",
    "\n",
    "save_image(results[1], os.path.join(out_dir, str(target_prompt)+'.jpg'))\n"
   ]
  }
 ],
 "metadata": {
  "kernelspec": {
   "display_name": "Python 3.8.5 ('ldm')",
   "language": "python",
   "name": "python3"
  },
  "language_info": {
   "codemirror_mode": {
    "name": "ipython",
    "version": 3
   },
   "file_extension": ".py",
   "mimetype": "text/x-python",
   "name": "python",
   "nbconvert_exporter": "python",
   "pygments_lexer": "ipython3",
   "version": "3.8.5"
  },
  "orig_nbformat": 4,
  "vscode": {
   "interpreter": {
    "hash": "587aa04bacead72c1ffd459abbe4c8140b72ba2b534b24165b36a2ede3d95042"
   }
  }
 },
 "nbformat": 4,
 "nbformat_minor": 2
}
